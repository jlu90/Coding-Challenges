{
 "cells": [
  {
   "cell_type": "markdown",
   "metadata": {},
   "source": [
    "# Leet Code"
   ]
  },
  {
   "cell_type": "markdown",
   "metadata": {},
   "source": [
    "### Two Sum: Given an array of integers nums and an integer target, return indices of the two numbers such that they add up to target."
   ]
  },
  {
   "cell_type": "markdown",
   "metadata": {},
   "source": [
    "#### Brute Force (My Solution)"
   ]
  },
  {
   "cell_type": "code",
   "execution_count": 2,
   "metadata": {},
   "outputs": [
    {
     "data": {
      "text/plain": [
       "[0, 1]"
      ]
     },
     "execution_count": 2,
     "metadata": {},
     "output_type": "execute_result"
    }
   ],
   "source": [
    "# Given an array of integers nums and an integer target, return indices of the two numbers such that they add up to target.\n",
    "\n",
    "def twoSum(nums, target):\n",
    "    output = []\n",
    "\n",
    "    for i in range(0, len(nums)):\n",
    "        for j in range(i+1, len(nums)):\n",
    "            if nums[i] + nums[j] == target:\n",
    "                output.append(i)\n",
    "                output.append(j)\n",
    "                break\n",
    "\n",
    "    return output\n",
    "\n",
    "twoSum([2,7,11,15], 9) # => [0,1]"
   ]
  },
  {
   "cell_type": "markdown",
   "metadata": {},
   "source": [
    "#### Improved Solution"
   ]
  },
  {
   "cell_type": "code",
   "execution_count": 6,
   "metadata": {},
   "outputs": [
    {
     "data": {
      "text/plain": [
       "[0, 1]"
      ]
     },
     "execution_count": 6,
     "metadata": {},
     "output_type": "execute_result"
    }
   ],
   "source": [
    "def twoSum(nums, target):\n",
    "    prev_dict = {}\n",
    "    \n",
    "    for i, n in enumerate(nums):\n",
    "        diff = target - n\n",
    "        if diff in prev_dict:\n",
    "            return [prev_dict[diff], i]\n",
    "        prev_dict[n] = i\n",
    "        \n",
    "    return\n",
    "\n",
    "twoSum([2,7,11,15], 9) # => [0,1]"
   ]
  },
  {
   "cell_type": "code",
   "execution_count": 7,
   "metadata": {},
   "outputs": [],
   "source": [
    "integer = -123"
   ]
  },
  {
   "cell_type": "code",
   "execution_count": 12,
   "metadata": {},
   "outputs": [
    {
     "data": {
      "text/plain": [
       "'321'"
      ]
     },
     "execution_count": 12,
     "metadata": {},
     "output_type": "execute_result"
    }
   ],
   "source": [
    "str(integer)[::-1].replace('-','')"
   ]
  },
  {
   "cell_type": "markdown",
   "metadata": {},
   "source": [
    "### Reverse Integer"
   ]
  },
  {
   "cell_type": "markdown",
   "metadata": {},
   "source": [
    "#### My Solution"
   ]
  },
  {
   "cell_type": "code",
   "execution_count": 14,
   "metadata": {},
   "outputs": [],
   "source": [
    "def reverse(x):\n",
    "        string_x = str(x)\n",
    "        reverse_string = ''\n",
    "        \n",
    "        if string_x[0] != '-':\n",
    "            reverse_string = string_x[::-1]\n",
    "        else:\n",
    "            reverse_string = string_x[0] + string_x[::-1].replace('-','')\n",
    "            \n",
    "        reverse_int = int(reverse_string)\n",
    "        \n",
    "        if reverse_int > -2 ** 31 and reverse_int < (2**31 - 1):\n",
    "            return reverse_int\n",
    "        else:\n",
    "            return 0"
   ]
  },
  {
   "cell_type": "markdown",
   "metadata": {},
   "source": [
    "#### LeetCode Solution"
   ]
  },
  {
   "cell_type": "code",
   "execution_count": 32,
   "metadata": {},
   "outputs": [
    {
     "data": {
      "text/plain": [
       "-123"
      ]
     },
     "execution_count": 32,
     "metadata": {},
     "output_type": "execute_result"
    }
   ],
   "source": [
    "def reverse(x):\n",
    "    a = 0\n",
    "    b = 1\n",
    "    \n",
    "    if x < 0:\n",
    "        b = -1\n",
    "        x = abs(x)\n",
    "        \n",
    "    while x > 0:\n",
    "        c = x % 10 # pop off last digit\n",
    "        x = x // 10 # floor division -> returns largest possible int\n",
    "        a = c + (a * 10) # update a with popped off digit; multiply by 10 to move it to the next digit\n",
    "        \n",
    "    return (a * b if a < 2 ** 31 else 0)\n",
    "\n",
    "reverse(-321)"
   ]
  },
  {
   "cell_type": "markdown",
   "metadata": {},
   "source": [
    "### Is Palindrome"
   ]
  },
  {
   "cell_type": "code",
   "execution_count": 58,
   "metadata": {},
   "outputs": [],
   "source": [
    "def is_palindrome(n):\n",
    "    target = n\n",
    "    a = 0\n",
    "    b = 1\n",
    "    \n",
    "    if n < 0:\n",
    "        b = -1\n",
    "        n = abs(n)\n",
    "        \n",
    "    while n > 0:\n",
    "        pop = n % 10\n",
    "        n = n // 10\n",
    "        a = pop + (a * 10)\n",
    "        \n",
    "    return True if a * b == target else False"
   ]
  },
  {
   "cell_type": "markdown",
   "metadata": {},
   "source": [
    "# HackerRank"
   ]
  },
  {
   "cell_type": "code",
   "execution_count": null,
   "metadata": {},
   "outputs": [],
   "source": []
  }
 ],
 "metadata": {
  "kernelspec": {
   "display_name": "Python 3",
   "language": "python",
   "name": "python3"
  },
  "language_info": {
   "codemirror_mode": {
    "name": "ipython",
    "version": 3
   },
   "file_extension": ".py",
   "mimetype": "text/x-python",
   "name": "python",
   "nbconvert_exporter": "python",
   "pygments_lexer": "ipython3",
   "version": "3.7.6"
  }
 },
 "nbformat": 4,
 "nbformat_minor": 4
}
