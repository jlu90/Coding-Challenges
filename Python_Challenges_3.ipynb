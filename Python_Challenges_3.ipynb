{
 "cells": [
  {
   "cell_type": "markdown",
   "metadata": {},
   "source": [
    "## Leetcode"
   ]
  },
  {
   "cell_type": "markdown",
   "metadata": {},
   "source": [
    "### Count of Matches in Tournament\n",
    "- n = num teams\n",
    "- if n % 2 == 0 -> n/2 matches played per round; n/2 teams advance\n",
    "- if n % 2 != 0 -> (n-1)/2 matches are played; (n-1)/ 2 + 1 teams advance"
   ]
  },
  {
   "cell_type": "code",
   "execution_count": 17,
   "metadata": {},
   "outputs": [],
   "source": [
    "def number_of_matches(n):\n",
    "    # Edge Cases\n",
    "    if n <= 1:\n",
    "        return 0\n",
    "    if n == 2:\n",
    "        return 1\n",
    "    \n",
    "    # Rules\n",
    "    matches = 0\n",
    "    \n",
    "    while n > 1:\n",
    "        if n % 2 == 0:\n",
    "            matches += n/2\n",
    "            n = n/2\n",
    "        else:\n",
    "            matches += (n-1)/ 2\n",
    "            n = (n-1)/2 + 1\n",
    "    \n",
    "    return int(matches)"
   ]
  },
  {
   "cell_type": "code",
   "execution_count": 18,
   "metadata": {},
   "outputs": [
    {
     "data": {
      "text/plain": [
       "6"
      ]
     },
     "execution_count": 18,
     "metadata": {},
     "output_type": "execute_result"
    }
   ],
   "source": [
    "number_of_matches(7)"
   ]
  },
  {
   "cell_type": "code",
   "execution_count": 19,
   "metadata": {},
   "outputs": [
    {
     "data": {
      "text/plain": [
       "13"
      ]
     },
     "execution_count": 19,
     "metadata": {},
     "output_type": "execute_result"
    }
   ],
   "source": [
    "number_of_matches(14)"
   ]
  },
  {
   "cell_type": "markdown",
   "metadata": {},
   "source": [
    "## Code Wars"
   ]
  },
  {
   "cell_type": "markdown",
   "metadata": {},
   "source": [
    "### Replace with Alphabet Position\n",
    "\n",
    "Given a string, replace every letter with its position in the alphabet"
   ]
  },
  {
   "cell_type": "code",
   "execution_count": 12,
   "metadata": {},
   "outputs": [],
   "source": [
    "def alphabet_position(text):\n",
    "    \n",
    "    text = text.lower()\n",
    "    \n",
    "    output = [str(ord(char)-96) for char in text if char.isalpha()]\n",
    "                \n",
    "    return ' '.join(output)\n",
    "    "
   ]
  },
  {
   "cell_type": "code",
   "execution_count": 13,
   "metadata": {},
   "outputs": [
    {
     "data": {
      "text/plain": [
       "'20 8 5 19 21 14 19 5 20 19 5 20 19 1 20 20 23 5 12 22 5 15 3 12 15 3 11'"
      ]
     },
     "execution_count": 13,
     "metadata": {},
     "output_type": "execute_result"
    }
   ],
   "source": [
    "alphabet_position(\"The sunset sets at twelve o' clock.\")"
   ]
  },
  {
   "cell_type": "markdown",
   "metadata": {},
   "source": [
    "### Highest Rank Number in an Array"
   ]
  },
  {
   "cell_type": "code",
   "execution_count": 36,
   "metadata": {},
   "outputs": [],
   "source": [
    "# My Solution\n",
    "\n",
    "def highest_rank(arr):\n",
    "    \n",
    "    # Count the Instances of Each Number\n",
    "    counter_dict = {}\n",
    "    for num in arr:\n",
    "        try:\n",
    "            counter_dict[num] += 1\n",
    "        except:\n",
    "            counter_dict[num] = 1\n",
    "    \n",
    "    # Determine Which Numbers in Array are Equal to the Max\n",
    "    max_count = max(counter_dict.values())\n",
    "    max_nums = []\n",
    "\n",
    "    for k in counter_dict.keys():\n",
    "        if counter_dict[k] >= max_count:\n",
    "            max_nums.append(k)\n",
    "            \n",
    "    # Return the largest number         \n",
    "    return max(max_nums)\n",
    "        "
   ]
  },
  {
   "cell_type": "code",
   "execution_count": 41,
   "metadata": {},
   "outputs": [
    {
     "data": {
      "text/plain": [
       "12"
      ]
     },
     "execution_count": 41,
     "metadata": {},
     "output_type": "execute_result"
    }
   ],
   "source": [
    "highest_rank([12, 10, 8, 12, 7, 6, 4, 10, 12])"
   ]
  },
  {
   "cell_type": "code",
   "execution_count": 42,
   "metadata": {},
   "outputs": [
    {
     "data": {
      "text/plain": [
       "12"
      ]
     },
     "execution_count": 42,
     "metadata": {},
     "output_type": "execute_result"
    }
   ],
   "source": [
    "highest_rank([12, 10, 8, 12, 7, 6, 4, 10, 12, 10] )"
   ]
  },
  {
   "cell_type": "code",
   "execution_count": 43,
   "metadata": {},
   "outputs": [
    {
     "data": {
      "text/plain": [
       "3"
      ]
     },
     "execution_count": 43,
     "metadata": {},
     "output_type": "execute_result"
    }
   ],
   "source": [
    "highest_rank([12, 10, 8, 8, 3, 3, 3, 3, 2, 4, 10, 12, 10])"
   ]
  },
  {
   "cell_type": "code",
   "execution_count": 40,
   "metadata": {},
   "outputs": [],
   "source": [
    "# Site Solution\n",
    "\n",
    "def highest_rank(arr):\n",
    "    return sorted(arr, key = lambda x: (arr.count(x), x))[-1]"
   ]
  },
  {
   "cell_type": "code",
   "execution_count": null,
   "metadata": {},
   "outputs": [],
   "source": []
  }
 ],
 "metadata": {
  "kernelspec": {
   "display_name": "Python 3",
   "language": "python",
   "name": "python3"
  },
  "language_info": {
   "codemirror_mode": {
    "name": "ipython",
    "version": 3
   },
   "file_extension": ".py",
   "mimetype": "text/x-python",
   "name": "python",
   "nbconvert_exporter": "python",
   "pygments_lexer": "ipython3",
   "version": "3.7.6"
  }
 },
 "nbformat": 4,
 "nbformat_minor": 4
}
