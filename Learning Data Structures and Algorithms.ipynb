{
 "cells": [
  {
   "cell_type": "markdown",
   "metadata": {},
   "source": [
    "# Python for Data Structures and Algorithms\n",
    "Course taught by Jose Portilla"
   ]
  },
  {
   "cell_type": "markdown",
   "metadata": {},
   "source": [
    "## Low-Level Computer Architecture\n",
    "- 8 bits = 1 byte\n",
    "- Each byte is associated with a unique memory address\n",
    "- RAM = random access memory\n",
    "- An individual byte of memory can be stored/retrieved in O(1) time\n",
    "- Programming languages keep track of the association between an identifier and the memory address"
   ]
  },
  {
   "cell_type": "markdown",
   "metadata": {},
   "source": [
    "## Array Sequences\n",
    "- Python has 3 main array sequences:\n",
    "    1. List\n",
    "    2. Tuple\n",
    "    3. String\n",
    "- Arrays are a group of related variables that are stored one after another in a contiguous portion of a computer's memory\n",
    "    - Example: Each unicode character is 2 bytes (16 bits), so the word \"SAMPLE\" would require 12 consecutive bytes of memory\n",
    "- The memory address of an array can be calcuated by start + (cell size)(index)\n",
    "\n",
    "### Referential Arrays\n",
    "- An array where each element is a **reference** to the object\n",
    "- Array index is pointing to (referencing) a object; Think CS50 pointers\n",
    "- Must be aware of **shallow copies**, which reference the same elements of a previous existing list. \n",
    "- To form a new list with new elements, you must do a **deep copy**"
   ]
  },
  {
   "cell_type": "markdown",
   "metadata": {},
   "source": [
    "### Dynamic Arrays\n",
    "- With dynamic arrays, you do not need to specify the size of your array before creating it.\n",
    "- As the array grows, it will grab extra space and keep grabbing space until it can't or no longer needs to.\n",
    "- Logic:\n",
    "    1. Make an array A\n",
    "    2. Make an array B (with a larger capacity, ~2x capacity of previous array)\n",
    "    3. Set B[i] = A[i] for all elements in A\n",
    "    4. Set A = B\n",
    "    5. Add more items to A"
   ]
  },
  {
   "cell_type": "code",
   "execution_count": 6,
   "metadata": {},
   "outputs": [
    {
     "name": "stdout",
     "output_type": "stream",
     "text": [
      "Length:0; Size in Bytes: 72\n",
      "Length:1; Size in Bytes: 104\n",
      "Length:2; Size in Bytes: 104\n",
      "Length:3; Size in Bytes: 104\n",
      "Length:4; Size in Bytes: 104\n",
      "Length:5; Size in Bytes: 136\n",
      "Length:6; Size in Bytes: 136\n",
      "Length:7; Size in Bytes: 136\n",
      "Length:8; Size in Bytes: 136\n",
      "Length:9; Size in Bytes: 200\n"
     ]
    }
   ],
   "source": [
    "import sys\n",
    "\n",
    "n = 10\n",
    "\n",
    "data =[]\n",
    "\n",
    "for i in range(n):\n",
    "    a = len(data)\n",
    "    b = sys.getsizeof(data)\n",
    "    \n",
    "    print(f'Length:{a}; Size in Bytes: {b}')\n",
    "    \n",
    "    data.append(i)"
   ]
  },
  {
   "cell_type": "markdown",
   "metadata": {},
   "source": [
    "#### Example - Building a Dynamic Array"
   ]
  },
  {
   "cell_type": "code",
   "execution_count": 9,
   "metadata": {},
   "outputs": [],
   "source": [
    "import ctypes"
   ]
  },
  {
   "cell_type": "code",
   "execution_count": 10,
   "metadata": {},
   "outputs": [],
   "source": [
    "class DynamicArray(object):\n",
    "    \n",
    "    def __init__(self):\n",
    "        self.n = 0\n",
    "        self.capacity = 1\n",
    "        self.A = self.make_array(self.capacity)\n",
    "        \n",
    "    def __len__(self):\n",
    "        return self.n\n",
    "    \n",
    "    def __get_item__(self, k):\n",
    "        if not 0 <= k < self.n:\n",
    "            return IndexError('K is out of bounds')\n",
    "        return self.A[k]\n",
    "    \n",
    "    def append(self, ele):\n",
    "        if self.n == self.capacity:\n",
    "            self._resize(2*self.capacity)\n",
    "        \n",
    "        self.A[self.n] = ele\n",
    "        self.n += 1\n",
    "    \n",
    "    def _resize(self, new_cap):\n",
    "        B = self.make_array(new_cap)\n",
    "        for k in range(self.n):\n",
    "            B[k] = self.A[k]\n",
    "        self.A = B\n",
    "        self.capacity = new_cap\n",
    "        \n",
    "    def make_array(self, new_cap):\n",
    "        return (new_cap * ctypes.py_object)()"
   ]
  },
  {
   "cell_type": "code",
   "execution_count": 11,
   "metadata": {},
   "outputs": [],
   "source": [
    "arr = DynamicArray()"
   ]
  },
  {
   "cell_type": "code",
   "execution_count": 12,
   "metadata": {},
   "outputs": [],
   "source": [
    "arr.append(1)"
   ]
  },
  {
   "cell_type": "code",
   "execution_count": 13,
   "metadata": {},
   "outputs": [
    {
     "data": {
      "text/plain": [
       "1"
      ]
     },
     "execution_count": 13,
     "metadata": {},
     "output_type": "execute_result"
    }
   ],
   "source": [
    "len(arr)"
   ]
  },
  {
   "cell_type": "code",
   "execution_count": 14,
   "metadata": {},
   "outputs": [],
   "source": [
    "arr.append(2)"
   ]
  },
  {
   "cell_type": "code",
   "execution_count": 15,
   "metadata": {},
   "outputs": [
    {
     "data": {
      "text/plain": [
       "2"
      ]
     },
     "execution_count": 15,
     "metadata": {},
     "output_type": "execute_result"
    }
   ],
   "source": [
    "len(arr)"
   ]
  },
  {
   "cell_type": "code",
   "execution_count": null,
   "metadata": {},
   "outputs": [],
   "source": [
    "arr._"
   ]
  }
 ],
 "metadata": {
  "kernelspec": {
   "display_name": "Python 3",
   "language": "python",
   "name": "python3"
  },
  "language_info": {
   "codemirror_mode": {
    "name": "ipython",
    "version": 3
   },
   "file_extension": ".py",
   "mimetype": "text/x-python",
   "name": "python",
   "nbconvert_exporter": "python",
   "pygments_lexer": "ipython3",
   "version": "3.7.6"
  }
 },
 "nbformat": 4,
 "nbformat_minor": 4
}
