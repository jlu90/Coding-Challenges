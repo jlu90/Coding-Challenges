{
 "cells": [
  {
   "cell_type": "markdown",
   "metadata": {},
   "source": [
    "# Creating Normalized Tables"
   ]
  },
  {
   "cell_type": "markdown",
   "metadata": {},
   "source": [
    "## Imports"
   ]
  },
  {
   "cell_type": "code",
   "execution_count": null,
   "metadata": {},
   "outputs": [],
   "source": [
    "import psycopg2"
   ]
  },
  {
   "cell_type": "markdown",
   "metadata": {},
   "source": [
    "## Make Connection to DB"
   ]
  },
  {
   "cell_type": "code",
   "execution_count": null,
   "metadata": {},
   "outputs": [],
   "source": [
    "try:\n",
    "    conn = psycopg2.connect(\"dbname=####\")\n",
    "except psycopg2.Error as e:\n",
    "    print('Error: Unable to establish a connection')\n",
    "    print(e)\n",
    "    \n",
    "try:\n",
    "    cur = conn.cursor()\n",
    "except psycopg2.Error as e:\n",
    "    print('Error: Cursor not connected')\n",
    "    print(e)\n",
    "\n",
    "conn.set_session(autocommit = True)"
   ]
  },
  {
   "cell_type": "markdown",
   "metadata": {},
   "source": [
    "## Details of Table\n",
    "\n",
    "* **Table Name**: music_library\n",
    "* **Column 0**: Album ID\n",
    "* **Column 1**: Album Name\n",
    "* **Column 2**: Artist Name\n",
    "* **Column 3**: Year\n",
    "* **Column 4**: List of Songs"
   ]
  },
  {
   "cell_type": "markdown",
   "metadata": {},
   "source": [
    "## Create Table (Not Normalized)"
   ]
  },
  {
   "cell_type": "code",
   "execution_count": null,
   "metadata": {},
   "outputs": [],
   "source": [
    "query = 'CREATE TABLE IF NOT EXISTS music_library '\n",
    "query += '(album_id int, album_name varchar, artist_name varchar, year int, songs text[]);'\n",
    "\n",
    "try:\n",
    "    cur.execute(query)\n",
    "except psycopg2.Error as e:\n",
    "    print('Error: Table not created')\n",
    "    print(e)"
   ]
  },
  {
   "cell_type": "code",
   "execution_count": null,
   "metadata": {},
   "outputs": [],
   "source": [
    "query = 'INSERT into music_library (album_id, album_name, artist_name, year, songs) '\n",
    "query += 'VALUES (%s, %s, %s, %s, %s)'    \n",
    "\n",
    "try:\n",
    "    cur.execute(query, (1, \n",
    "                        'Rubber Soul', \n",
    "                        'The Beatles', \n",
    "                        1965, \n",
    "                        ['Michelle', 'Think for Yourself', 'In my Life']))\n",
    "except psycopg2.Error as e:\n",
    "    print('Error: Row not inserted')\n",
    "    print(e)  "
   ]
  },
  {
   "cell_type": "code",
   "execution_count": null,
   "metadata": {},
   "outputs": [],
   "source": [
    "try:\n",
    "    cur.execute(query, (2, \n",
    "                        'Let It Be', \n",
    "                        'The Beatles', \n",
    "                        1970,\n",
    "                        ['Let It Be', 'Across the Universe']))\n",
    "except psycopg2.Error as e:\n",
    "    print('Error: Row not inserted')\n",
    "    print(e)"
   ]
  },
  {
   "cell_type": "markdown",
   "metadata": {},
   "source": [
    "### Validate Insertion"
   ]
  },
  {
   "cell_type": "code",
   "execution_count": null,
   "metadata": {},
   "outputs": [],
   "source": [
    "try:\n",
    "    cur.execute('SELECT * FROM music_library;')\n",
    "except psycopg2.Error as e:\n",
    "    print('Error: SELECT *')\n",
    "    print(e)\n",
    "    \n",
    "row = cur.fetchone()\n",
    "while row:\n",
    "    print(row)\n",
    "    row = cur.fetchone()"
   ]
  },
  {
   "cell_type": "markdown",
   "metadata": {},
   "source": [
    "## Convert Table to `1NF`"
   ]
  },
  {
   "cell_type": "code",
   "execution_count": null,
   "metadata": {},
   "outputs": [],
   "source": [
    "query = 'CREATE TABLE IF NOT EXISTS music_library_1nf '\n",
    "query += '(album_id int, album_name varchar, artist_name varchar, year int, song_name varchar);'\n",
    "\n",
    "try:\n",
    "    cur.execute(query)\n",
    "except psycopg2.Error as e:\n",
    "    print('Error: Table not created')\n",
    "    print(e)"
   ]
  },
  {
   "cell_type": "code",
   "execution_count": null,
   "metadata": {},
   "outputs": [],
   "source": [
    "def insert_row(table, album_id, album_name, artist_name, year, song_name):\n",
    "    query = f'INSERT into {table} (album_id, album_name, artist_name, year, song_name) '\n",
    "    query += 'VALUES (%s, %s, %s, %s, %s)'    \n",
    "\n",
    "    try:\n",
    "        cur.execute(query, (album_id, \n",
    "                            album_name, \n",
    "                            artist_name, \n",
    "                            year, \n",
    "                            song_name))\n",
    "    except psycopg2.Error as e:\n",
    "        print('Error: Row not inserted')\n",
    "        print(e)  "
   ]
  },
  {
   "cell_type": "code",
   "execution_count": null,
   "metadata": {},
   "outputs": [],
   "source": [
    "insert_row('music_library_1nf',\n",
    "           1,\n",
    "           'Rubber Soul',\n",
    "           'The Beatles',\n",
    "           1965,\n",
    "           'Michelle')"
   ]
  },
  {
   "cell_type": "code",
   "execution_count": null,
   "metadata": {},
   "outputs": [],
   "source": [
    "insert_row('music_library_1nf',\n",
    "           1,\n",
    "           'Rubber Soul',\n",
    "           'The Beatles',\n",
    "           1965,\n",
    "           'Think for Yourself')"
   ]
  },
  {
   "cell_type": "code",
   "execution_count": null,
   "metadata": {},
   "outputs": [],
   "source": [
    "insert_row('music_library_1nf',\n",
    "           1,\n",
    "           'Rubber Soul',\n",
    "           'The Beatles',\n",
    "           1965,\n",
    "           'In My Life')"
   ]
  },
  {
   "cell_type": "code",
   "execution_count": null,
   "metadata": {},
   "outputs": [],
   "source": [
    "insert_row('music_library_1nf',\n",
    "           2,\n",
    "           'Let It Be',\n",
    "           'The Beatles',\n",
    "           1970,\n",
    "           'Let It Be')"
   ]
  },
  {
   "cell_type": "code",
   "execution_count": null,
   "metadata": {},
   "outputs": [],
   "source": [
    "insert_row('music_library_1nf',\n",
    "           2,\n",
    "           'Let It Be',\n",
    "           'The Beatles',\n",
    "           1970,\n",
    "           'Across the Universe')"
   ]
  },
  {
   "cell_type": "code",
   "execution_count": null,
   "metadata": {},
   "outputs": [],
   "source": [
    "query = \"DELETE FROM music_library_1nf WHERE album_id = 2 AND song_name = 'Think for Yourself'\"\n",
    "\n",
    "cur.execute(query)"
   ]
  },
  {
   "cell_type": "code",
   "execution_count": null,
   "metadata": {},
   "outputs": [],
   "source": [
    "try:\n",
    "    cur.execute('SELECT DISTINCT * FROM music_library_1nf')\n",
    "except psycopg2.Error as e:\n",
    "    print(e)\n",
    "    \n",
    "row = cur.fetchone()\n",
    "\n",
    "while row:\n",
    "    print(row)\n",
    "    row = cur.fetchone()"
   ]
  },
  {
   "cell_type": "markdown",
   "metadata": {},
   "source": [
    "## Convert to `2NF`\n",
    "* Break data into two tables: `album_library` and `song_library`"
   ]
  },
  {
   "cell_type": "markdown",
   "metadata": {},
   "source": [
    "### Create `album_library` table"
   ]
  },
  {
   "cell_type": "code",
   "execution_count": null,
   "metadata": {},
   "outputs": [],
   "source": [
    "query = 'CREATE TABLE IF NOT EXISTS album_library '\n",
    "query += '(album_id int, album_name varchar, artist_name varchar, year int);'\n",
    "\n",
    "try:\n",
    "    cur.execute(query)\n",
    "except psycopg2.Error as e:\n",
    "    print(e)"
   ]
  },
  {
   "cell_type": "code",
   "execution_count": null,
   "metadata": {},
   "outputs": [],
   "source": [
    "def insert_album(table, album_id, album_name, artist_name, year):\n",
    "    query = f'INSERT into {table} (album_id, album_name, artist_name, year) '\n",
    "    query += 'VALUES (%s, %s, %s, %s)'    \n",
    "\n",
    "    try:\n",
    "        cur.execute(query, (album_id, \n",
    "                            album_name, \n",
    "                            artist_name, \n",
    "                            year))\n",
    "    except psycopg2.Error as e:\n",
    "        print('Error: Row not inserted')\n",
    "        print(e) "
   ]
  },
  {
   "cell_type": "code",
   "execution_count": null,
   "metadata": {},
   "outputs": [],
   "source": [
    "insert_album('album_library',\n",
    "             1,\n",
    "             'Rubber Soul',\n",
    "             'The Beatles',\n",
    "             1965)"
   ]
  },
  {
   "cell_type": "code",
   "execution_count": null,
   "metadata": {},
   "outputs": [],
   "source": [
    "insert_album('album_library',\n",
    "             2,\n",
    "             'Let It Be',\n",
    "             'The Beatles',\n",
    "             1970)"
   ]
  },
  {
   "cell_type": "code",
   "execution_count": null,
   "metadata": {},
   "outputs": [],
   "source": [
    "query = 'SELECT * FROM album_library'\n",
    "cur.execute(query)\n",
    "\n",
    "row = cur.fetchone()\n",
    "\n",
    "while row:\n",
    "    print(row)\n",
    "    row = cur.fetchone()"
   ]
  },
  {
   "cell_type": "markdown",
   "metadata": {},
   "source": [
    "### Create `song_library` table"
   ]
  },
  {
   "cell_type": "code",
   "execution_count": null,
   "metadata": {},
   "outputs": [],
   "source": [
    "query = 'CREATE TABLE IF NOT EXISTS song_library '\n",
    "query += '(song_id SERIAL, song_name varchar, album_id int)'\n",
    "\n",
    "try:\n",
    "    cur.execute(query)\n",
    "except psycopg2.Error as e:\n",
    "    print(e)"
   ]
  },
  {
   "cell_type": "code",
   "execution_count": null,
   "metadata": {},
   "outputs": [],
   "source": [
    "def insert_song(table, song_name, album_id):\n",
    "    query = f'INSERT into {table} (song_name, album_id) '\n",
    "    query += 'VALUES (%s, %s)'    \n",
    "\n",
    "    try:\n",
    "        cur.execute(query, (song_name,\n",
    "                            album_id))\n",
    "    except psycopg2.Error as e:\n",
    "        print('Error: Row not inserted')\n",
    "        print(e) \n",
    "    "
   ]
  },
  {
   "cell_type": "code",
   "execution_count": null,
   "metadata": {},
   "outputs": [],
   "source": [
    "insert_song('song_library', 'Michelle', 1)"
   ]
  },
  {
   "cell_type": "code",
   "execution_count": null,
   "metadata": {},
   "outputs": [],
   "source": [
    "insert_song('song_library', 'Think for Yourself', 1)"
   ]
  },
  {
   "cell_type": "code",
   "execution_count": null,
   "metadata": {},
   "outputs": [],
   "source": [
    "insert_song('song_library', 'In My Life', 1)"
   ]
  },
  {
   "cell_type": "code",
   "execution_count": null,
   "metadata": {},
   "outputs": [],
   "source": [
    "insert_song('song_library', 'Let It Be', 2)"
   ]
  },
  {
   "cell_type": "code",
   "execution_count": null,
   "metadata": {},
   "outputs": [],
   "source": [
    "insert_song('song_library', 'Across the Universe', 2)"
   ]
  },
  {
   "cell_type": "code",
   "execution_count": null,
   "metadata": {},
   "outputs": [],
   "source": [
    "query = 'SELECT * FROM song_library'\n",
    "try:\n",
    "    cur.execute(query)\n",
    "except psycopg2.Error as e:\n",
    "    print(e)\n",
    "    \n",
    "row = cur.fetchone()\n",
    "\n",
    "while row:\n",
    "    print(row)\n",
    "    row = cur.fetchone()"
   ]
  },
  {
   "cell_type": "markdown",
   "metadata": {},
   "source": [
    "### Join Tables"
   ]
  },
  {
   "cell_type": "code",
   "execution_count": null,
   "metadata": {},
   "outputs": [],
   "source": [
    "query = 'SELECT * FROM album_library a JOIN song_library s ON s.album_id = a.album_id'\n",
    "\n",
    "try:\n",
    "    cur.execute(query)\n",
    "except psycopg2.Error as e:\n",
    "    print(e)"
   ]
  },
  {
   "cell_type": "code",
   "execution_count": null,
   "metadata": {},
   "outputs": [],
   "source": [
    "row = cur.fetchone()\n",
    "\n",
    "while row:\n",
    "    print(row)\n",
    "    row = cur.fetchone()"
   ]
  },
  {
   "cell_type": "markdown",
   "metadata": {},
   "source": [
    "## Convert to `3NF`\n",
    "* Organize the data into three tables:\n",
    "    1. album_library2\n",
    "    2. song_library\n",
    "    3. artist_library"
   ]
  },
  {
   "cell_type": "markdown",
   "metadata": {},
   "source": [
    "### Create Tables"
   ]
  },
  {
   "cell_type": "code",
   "execution_count": null,
   "metadata": {},
   "outputs": [],
   "source": [
    "query = 'CREATE TABLE IF NOT EXISTS album_library2 '\n",
    "query += '(album_id SERIAL, album_name VARCHAR, artist_id INT, year INT)'\n",
    "\n",
    "try:\n",
    "    cur.execute(query)\n",
    "except psycopg2.Error as e:\n",
    "    print(e)"
   ]
  },
  {
   "cell_type": "code",
   "execution_count": null,
   "metadata": {},
   "outputs": [],
   "source": [
    "query = 'CREATE TABLE IF NOT EXISTS song_library2 '\n",
    "query += '(song_id SERIAL, song_name varchar, album_id int)'\n",
    "\n",
    "try:\n",
    "    cur.execute(query)\n",
    "except psycopg2.Error as e:\n",
    "    print(e)"
   ]
  },
  {
   "cell_type": "code",
   "execution_count": null,
   "metadata": {},
   "outputs": [],
   "source": [
    "query = 'CREATE TABLE IF NOT EXISTS artist_library'\n",
    "query += '(artist_id SERIAL, artist_name varchar)'\n",
    "\n",
    "try:\n",
    "    cur.execute(query)\n",
    "except psycopg2.Error as e:\n",
    "    print(e)"
   ]
  },
  {
   "cell_type": "markdown",
   "metadata": {},
   "source": [
    "### Insert Data Into Tables"
   ]
  },
  {
   "cell_type": "markdown",
   "metadata": {},
   "source": [
    "#### Artists"
   ]
  },
  {
   "cell_type": "code",
   "execution_count": null,
   "metadata": {},
   "outputs": [],
   "source": [
    "query = \"INSERT INTO artist_library (artist_name) VALUES ('The Beatles')\"\n",
    "\n",
    "try:\n",
    "    cur.execute(query)\n",
    "except psycopg2.Error as e:\n",
    "    print(e)"
   ]
  },
  {
   "cell_type": "markdown",
   "metadata": {},
   "source": [
    "#### Albums"
   ]
  },
  {
   "cell_type": "code",
   "execution_count": null,
   "metadata": {},
   "outputs": [],
   "source": [
    "def insert_album(table, album_name, artist_id, year):\n",
    "    query = f\"INSERT INTO {table} (album_name, artist_id, year) VALUES (%s, %s, %s)\"\n",
    "    \n",
    "    try:\n",
    "        cur.execute(query, (album_name, artist_id, year))\n",
    "    except psycopg2.Error as e:\n",
    "        print(e)"
   ]
  },
  {
   "cell_type": "code",
   "execution_count": null,
   "metadata": {},
   "outputs": [],
   "source": [
    "insert_album('album_library2', 'Rubber Soul', 1, 1965)"
   ]
  },
  {
   "cell_type": "code",
   "execution_count": null,
   "metadata": {},
   "outputs": [],
   "source": [
    "insert_album('album_library2', 'Let It Be', 1, 1970)"
   ]
  },
  {
   "cell_type": "markdown",
   "metadata": {},
   "source": [
    "#### Songs"
   ]
  },
  {
   "cell_type": "code",
   "execution_count": null,
   "metadata": {},
   "outputs": [],
   "source": [
    "def insert_songs(table, album_id, song_name):\n",
    "    query = f\"INSERT INTO {table} (album_id, song_name) VALUES (%s, %s)\"\n",
    "    \n",
    "    try:\n",
    "        cur.execute(query, (album_id, song_name))\n",
    "    except psycopg2.Error as e:\n",
    "        print(e)"
   ]
  },
  {
   "cell_type": "code",
   "execution_count": null,
   "metadata": {},
   "outputs": [],
   "source": [
    "insert_songs('song_library2',1, 'Michelle')"
   ]
  },
  {
   "cell_type": "code",
   "execution_count": null,
   "metadata": {},
   "outputs": [],
   "source": [
    "insert_songs('song_library2', 1, 'Think for Yourself')"
   ]
  },
  {
   "cell_type": "code",
   "execution_count": null,
   "metadata": {},
   "outputs": [],
   "source": [
    "insert_songs('song_library2', 1, 'In My Life')"
   ]
  },
  {
   "cell_type": "code",
   "execution_count": null,
   "metadata": {},
   "outputs": [],
   "source": [
    "insert_songs('song_library2', 2, 'Let It Be')"
   ]
  },
  {
   "cell_type": "code",
   "execution_count": null,
   "metadata": {},
   "outputs": [],
   "source": [
    "insert_songs('song_library2', 2, 'Across the Universe')"
   ]
  },
  {
   "cell_type": "markdown",
   "metadata": {},
   "source": [
    "### Validate Queries"
   ]
  },
  {
   "cell_type": "code",
   "execution_count": null,
   "metadata": {},
   "outputs": [],
   "source": [
    "def select(table):\n",
    "    query = f'SELECT * FROM {table}'\n",
    "    try:\n",
    "        cur.execute(query)\n",
    "    except psycopg2.Error as e:\n",
    "        print(e)\n",
    "\n",
    "    row = cur.fetchone()\n",
    "\n",
    "    while row:\n",
    "        print(row)\n",
    "        row = cur.fetchone()"
   ]
  },
  {
   "cell_type": "code",
   "execution_count": null,
   "metadata": {},
   "outputs": [],
   "source": [
    "select('album_library2')"
   ]
  },
  {
   "cell_type": "code",
   "execution_count": null,
   "metadata": {},
   "outputs": [],
   "source": [
    "select('artist_library')"
   ]
  },
  {
   "cell_type": "code",
   "execution_count": null,
   "metadata": {},
   "outputs": [],
   "source": [
    "select('song_library2')"
   ]
  },
  {
   "cell_type": "markdown",
   "metadata": {},
   "source": [
    "## Close Connection"
   ]
  },
  {
   "cell_type": "code",
   "execution_count": null,
   "metadata": {},
   "outputs": [],
   "source": [
    "cur.close()\n",
    "conn.close()\n"
   ]
  },
  {
   "cell_type": "code",
   "execution_count": null,
   "metadata": {},
   "outputs": [],
   "source": []
  }
 ],
 "metadata": {
  "kernelspec": {
   "display_name": "Python 3",
   "language": "python",
   "name": "python3"
  },
  "language_info": {
   "codemirror_mode": {
    "name": "ipython",
    "version": 3
   },
   "file_extension": ".py",
   "mimetype": "text/x-python",
   "name": "python",
   "nbconvert_exporter": "python",
   "pygments_lexer": "ipython3",
   "version": "3.7.6"
  }
 },
 "nbformat": 4,
 "nbformat_minor": 4
}
