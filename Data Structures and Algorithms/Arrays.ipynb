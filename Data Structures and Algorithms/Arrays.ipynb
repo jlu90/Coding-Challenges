{
 "cells": [
  {
   "cell_type": "markdown",
   "metadata": {},
   "source": [
    "# Array Sequences\n",
    "**Part of Python for Data Structures and Algorithms**   \n",
    "Course taught by Jose Portilla"
   ]
  },
  {
   "cell_type": "markdown",
   "metadata": {},
   "source": [
    "## Low-Level Computer Architecture\n",
    "- 8 bits = 1 byte\n",
    "- Each byte is associated with a unique memory address\n",
    "- RAM = random access memory\n",
    "- An individual byte of memory can be stored/retrieved in O(1) time\n",
    "- Programming languages keep track of the association between an identifier and the memory address"
   ]
  },
  {
   "cell_type": "markdown",
   "metadata": {},
   "source": [
    "## Array Sequences\n",
    "- Python has 3 main array sequences:\n",
    "    1. List\n",
    "    2. Tuple\n",
    "    3. String\n",
    "- Arrays are a group of related variables that are stored one after another in a contiguous portion of a computer's memory\n",
    "    - Example: Each unicode character is 2 bytes (16 bits), so the word \"SAMPLE\" would require 12 consecutive bytes of memory\n",
    "- The memory address of an array can be calcuated by start + (cell size)(index)\n",
    "\n",
    "### Referential Arrays\n",
    "- An array where each element is a **reference** to the object\n",
    "- Array index is pointing to (referencing) a object; Think CS50 pointers\n",
    "- Must be aware of **shallow copies**, which reference the same elements of a previous existing list. \n",
    "- To form a new list with new elements, you must do a **deep copy**"
   ]
  },
  {
   "cell_type": "markdown",
   "metadata": {},
   "source": [
    "### Dynamic Arrays\n",
    "- With dynamic arrays, you do not need to specify the size of your array before creating it.\n",
    "- As the array grows, it will grab extra space and keep grabbing space until it can't or no longer needs to.\n",
    "- Logic:\n",
    "    1. Make an array A\n",
    "    2. Make an array B (with a larger capacity, ~2x capacity of previous array)\n",
    "    3. Set B[i] = A[i] for all elements in A\n",
    "    4. Set A = B\n",
    "    5. Add more items to A"
   ]
  },
  {
   "cell_type": "code",
   "execution_count": 6,
   "metadata": {},
   "outputs": [
    {
     "name": "stdout",
     "output_type": "stream",
     "text": [
      "Length:0; Size in Bytes: 72\n",
      "Length:1; Size in Bytes: 104\n",
      "Length:2; Size in Bytes: 104\n",
      "Length:3; Size in Bytes: 104\n",
      "Length:4; Size in Bytes: 104\n",
      "Length:5; Size in Bytes: 136\n",
      "Length:6; Size in Bytes: 136\n",
      "Length:7; Size in Bytes: 136\n",
      "Length:8; Size in Bytes: 136\n",
      "Length:9; Size in Bytes: 200\n"
     ]
    }
   ],
   "source": [
    "import sys\n",
    "\n",
    "n = 10\n",
    "\n",
    "data =[]\n",
    "\n",
    "for i in range(n):\n",
    "    a = len(data)\n",
    "    b = sys.getsizeof(data)\n",
    "    \n",
    "    print(f'Length:{a}; Size in Bytes: {b}')\n",
    "    \n",
    "    data.append(i)"
   ]
  },
  {
   "cell_type": "markdown",
   "metadata": {},
   "source": [
    "#### Example - Building a Dynamic Array"
   ]
  },
  {
   "cell_type": "code",
   "execution_count": 10,
   "metadata": {},
   "outputs": [],
   "source": [
    "import ctypes\n",
    "\n",
    "class DynamicArray(object):\n",
    "    \n",
    "    def __init__(self):\n",
    "        self.n = 0\n",
    "        self.capacity = 1\n",
    "        self.A = self.make_array(self.capacity)\n",
    "        \n",
    "    def __len__(self):\n",
    "        return self.n\n",
    "    \n",
    "    def __get_item__(self, k):\n",
    "        if not 0 <= k < self.n:\n",
    "            return IndexError('K is out of bounds')\n",
    "        return self.A[k]\n",
    "    \n",
    "    def append(self, ele):\n",
    "        if self.n == self.capacity:\n",
    "            self._resize(2*self.capacity)\n",
    "        \n",
    "        self.A[self.n] = ele\n",
    "        self.n += 1\n",
    "    \n",
    "    def _resize(self, new_cap):\n",
    "        B = self.make_array(new_cap)\n",
    "        for k in range(self.n):\n",
    "            B[k] = self.A[k]\n",
    "        self.A = B\n",
    "        self.capacity = new_cap\n",
    "        \n",
    "    def make_array(self, new_cap):\n",
    "        return (new_cap * ctypes.py_object)()"
   ]
  },
  {
   "cell_type": "code",
   "execution_count": 11,
   "metadata": {},
   "outputs": [],
   "source": [
    "arr = DynamicArray()"
   ]
  },
  {
   "cell_type": "code",
   "execution_count": 12,
   "metadata": {},
   "outputs": [],
   "source": [
    "arr.append(1)"
   ]
  },
  {
   "cell_type": "code",
   "execution_count": 13,
   "metadata": {},
   "outputs": [
    {
     "data": {
      "text/plain": [
       "1"
      ]
     },
     "execution_count": 13,
     "metadata": {},
     "output_type": "execute_result"
    }
   ],
   "source": [
    "len(arr)"
   ]
  },
  {
   "cell_type": "code",
   "execution_count": 14,
   "metadata": {},
   "outputs": [],
   "source": [
    "arr.append(2)"
   ]
  },
  {
   "cell_type": "code",
   "execution_count": 15,
   "metadata": {},
   "outputs": [
    {
     "data": {
      "text/plain": [
       "2"
      ]
     },
     "execution_count": 15,
     "metadata": {},
     "output_type": "execute_result"
    }
   ],
   "source": [
    "len(arr)"
   ]
  },
  {
   "cell_type": "code",
   "execution_count": 17,
   "metadata": {},
   "outputs": [
    {
     "data": {
      "text/plain": [
       "2"
      ]
     },
     "execution_count": 17,
     "metadata": {},
     "output_type": "execute_result"
    }
   ],
   "source": [
    "arr.__get_item__(1)"
   ]
  },
  {
   "cell_type": "markdown",
   "metadata": {},
   "source": [
    "### Amortization\n",
    "- A method for analyzing a given algorithm's complexity that considers both the costly and less costly operations together"
   ]
  },
  {
   "cell_type": "markdown",
   "metadata": {},
   "source": [
    "### Practice Problems"
   ]
  },
  {
   "cell_type": "markdown",
   "metadata": {},
   "source": [
    "#### Anagram Check"
   ]
  },
  {
   "cell_type": "code",
   "execution_count": 33,
   "metadata": {},
   "outputs": [],
   "source": [
    "def make_char_dict(string):\n",
    "    char_dict = {}\n",
    "    letters = string.lower().replace(' ', '')\n",
    "    for char in letters:\n",
    "        if char not in char_dict.keys():\n",
    "            char_dict[char] = 1\n",
    "        else:\n",
    "            char_dict[char] += 1\n",
    "    \n",
    "    return char_dict\n",
    "\n",
    "def anagram_check(string1, string2):\n",
    "    if len(string1) != len(string2):\n",
    "        return False\n",
    "    \n",
    "    dict1 = make_char_dict(string1)\n",
    "    dict2 = make_char_dict(string2)\n",
    "    \n",
    "    return dict1 == dict2"
   ]
  },
  {
   "cell_type": "code",
   "execution_count": 34,
   "metadata": {},
   "outputs": [
    {
     "data": {
      "text/plain": [
       "False"
      ]
     },
     "execution_count": 34,
     "metadata": {},
     "output_type": "execute_result"
    }
   ],
   "source": [
    "anagram_check('123', '1 2')"
   ]
  },
  {
   "cell_type": "markdown",
   "metadata": {},
   "source": [
    "#### Array Pair Sum"
   ]
  },
  {
   "cell_type": "code",
   "execution_count": 1,
   "metadata": {},
   "outputs": [],
   "source": [
    "# My Attempt\n",
    "\n",
    "def pair_sum(arr, k):\n",
    "    counter = 0\n",
    "    pair_list = []\n",
    "    \n",
    "    for i in range(0, len(arr)-1):\n",
    "        if arr[i] + arr[i+1] == k:\n",
    "            counter += 1\n",
    "            pair_list.append((arr[i], arr[i+1]))\n",
    "    \n",
    "    print(pair_list)\n",
    "    \n",
    "    return counter"
   ]
  },
  {
   "cell_type": "code",
   "execution_count": 5,
   "metadata": {},
   "outputs": [
    {
     "name": "stdout",
     "output_type": "stream",
     "text": [
      "[(1, 3), (2, 2)]\n"
     ]
    },
    {
     "data": {
      "text/plain": [
       "2"
      ]
     },
     "execution_count": 5,
     "metadata": {},
     "output_type": "execute_result"
    }
   ],
   "source": [
    "pair_sum([1, 3, 2, 2], 4)"
   ]
  },
  {
   "cell_type": "code",
   "execution_count": 6,
   "metadata": {},
   "outputs": [],
   "source": [
    "# Solution from Course\n",
    "\n",
    "def pair_sum(arr, k):\n",
    "    if len(arr) < 2:\n",
    "        return 0\n",
    "    \n",
    "    seen = set()\n",
    "    output = set()\n",
    "    \n",
    "    for num in arr:\n",
    "        target = k - num\n",
    "        if target not in seen:\n",
    "            seen.add(num)\n",
    "        else:\n",
    "            output.add((min(num, target), max(num, target)))\n",
    "    \n",
    "    return len(output)"
   ]
  },
  {
   "cell_type": "code",
   "execution_count": 7,
   "metadata": {},
   "outputs": [
    {
     "data": {
      "text/plain": [
       "2"
      ]
     },
     "execution_count": 7,
     "metadata": {},
     "output_type": "execute_result"
    }
   ],
   "source": [
    "pair_sum([1, 3, 2, 2], 4)"
   ]
  },
  {
   "cell_type": "markdown",
   "metadata": {},
   "source": [
    "#### Find the Missing Element"
   ]
  },
  {
   "cell_type": "code",
   "execution_count": 28,
   "metadata": {},
   "outputs": [],
   "source": [
    "# My Solution\n",
    "\n",
    "def finder(arr1, arr2):\n",
    "    if len(arr2) != len(arr1) - 1:\n",
    "        return 'Invalid Input'\n",
    "    \n",
    "    counts = {}\n",
    "    \n",
    "    for num in arr1:\n",
    "        if num not in counts.keys():\n",
    "            counts[num] = 1\n",
    "        else:\n",
    "            counts[num] += 1\n",
    "    \n",
    "    for num in arr2:\n",
    "        counts[num] -= 1\n",
    "        \n",
    "    for k, v in counts.items():\n",
    "        if v != 0:\n",
    "            return k\n"
   ]
  },
  {
   "cell_type": "code",
   "execution_count": 34,
   "metadata": {},
   "outputs": [
    {
     "data": {
      "text/plain": [
       "5"
      ]
     },
     "execution_count": 34,
     "metadata": {},
     "output_type": "execute_result"
    }
   ],
   "source": [
    "finder([1,2,3,4,5,6,7], [3,7,2,1,4,6])"
   ]
  },
  {
   "cell_type": "code",
   "execution_count": 35,
   "metadata": {},
   "outputs": [
    {
     "data": {
      "text/plain": [
       "5"
      ]
     },
     "execution_count": 35,
     "metadata": {},
     "output_type": "execute_result"
    }
   ],
   "source": [
    "finder([5,5,7,7], [5,7,7])"
   ]
  },
  {
   "cell_type": "code",
   "execution_count": 36,
   "metadata": {},
   "outputs": [
    {
     "data": {
      "text/plain": [
       "6"
      ]
     },
     "execution_count": 36,
     "metadata": {},
     "output_type": "execute_result"
    }
   ],
   "source": [
    "finder([9,8,7,6,5,4,3,2,1], [9,8,7,5,4,3,2,1])"
   ]
  },
  {
   "cell_type": "code",
   "execution_count": 33,
   "metadata": {},
   "outputs": [],
   "source": [
    "# Course Solution #1 (Pythonic)\n",
    "\n",
    "def finder(arr1, arr2):\n",
    "   \n",
    "    # Sort Arrays\n",
    "    arr1.sort()\n",
    "    arr2.sort()\n",
    "    \n",
    "    # Compare elements\n",
    "    for num1, num2 in zip(arr1,arr2):\n",
    "        if num1 != num2:\n",
    "            return num1\n",
    "        \n",
    "    return arr1[-1]"
   ]
  },
  {
   "cell_type": "code",
   "execution_count": 37,
   "metadata": {},
   "outputs": [],
   "source": [
    "# Course Solution #2 (Using Hash Table)\n",
    "\n",
    "import collections\n",
    "\n",
    "def finder(arr1, arr2):\n",
    "    d = collections.defaultdict(int)\n",
    "    \n",
    "    for num in arr2:\n",
    "        d[num] += 1\n",
    "    \n",
    "    for num in arr1:\n",
    "        if d[num] == 0:\n",
    "            return num\n",
    "        else:\n",
    "            d[num] -= 1"
   ]
  },
  {
   "cell_type": "code",
   "execution_count": 38,
   "metadata": {},
   "outputs": [],
   "source": [
    "# Course Solution 3 (XOR)\n",
    "\n",
    "def finder(arr1, arr2):\n",
    "    result = 0\n",
    "    for num in arr1 + arr2:\n",
    "        result ^= num\n",
    "        print(result)\n",
    "    return result"
   ]
  },
  {
   "cell_type": "code",
   "execution_count": null,
   "metadata": {},
   "outputs": [],
   "source": []
  }
 ],
 "metadata": {
  "kernelspec": {
   "display_name": "Python 3",
   "language": "python",
   "name": "python3"
  },
  "language_info": {
   "codemirror_mode": {
    "name": "ipython",
    "version": 3
   },
   "file_extension": ".py",
   "mimetype": "text/x-python",
   "name": "python",
   "nbconvert_exporter": "python",
   "pygments_lexer": "ipython3",
   "version": "3.7.6"
  }
 },
 "nbformat": 4,
 "nbformat_minor": 4
}
