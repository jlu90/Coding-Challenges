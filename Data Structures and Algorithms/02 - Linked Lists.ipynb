{
 "cells": [
  {
   "cell_type": "markdown",
   "metadata": {},
   "source": [
    "# Linked Lists"
   ]
  },
  {
   "cell_type": "markdown",
   "metadata": {},
   "source": [
    "## Singly Linked Lists\n",
    "### What is a singly linked list?\n",
    "- A **singly linked list** is a collection of **nodes** that collectively form a linear sequence. \n",
    "- Each **node** stores a **reference to an object** that is an element of the sequence and a **reference to the next node** of the list. \n",
    "- The **head** is the first node of the linked list, and it has nothing pointing to it.\n",
    "- The **tail** is the last node of the linked list, and it points to None or nothing. \n",
    "- Going through the nodes is known as **traversing** a linked list (also known as hopping)  \n",
    "### Inserting elements into a singly linked list\n",
    "- Linked lists do not have a predetermined, fixed size. The space it uses is proportional to its current number of elements.\n",
    "- To insert a new element at the **head** of a linked list:\n",
    "    1. Create a new node\n",
    "    2. Set its element to the new element\n",
    "    3. Set the next link to refer to the current head\n",
    "    4. Set the list's head to point to a new node\n",
    "- To insert a new element at the **tail** of a linked list:\n",
    "    1. Create a new node\n",
    "    2. Assign its next reference to None\n",
    "    3. Set the next reference of the previous tail to point to the new node \n",
    "    4. Update the tail reference to be the new tail\n",
    "### Removing an element from a singly linked list\n",
    "- To remove an element from the **head** of a linked list:\n",
    "    1. Point the head to the next element\n",
    "    2. Remove old head\n",
    "- To remove an element from the **tail** of a linked list:\n",
    "    - Not easily done; Requires making a doubly linked list"
   ]
  },
  {
   "cell_type": "markdown",
   "metadata": {},
   "source": [
    "### Implementing a Singly Linked List"
   ]
  },
  {
   "cell_type": "code",
   "execution_count": 2,
   "metadata": {},
   "outputs": [],
   "source": [
    "class Node():\n",
    "    def __init__(self, value):\n",
    "        self.value = value\n",
    "        self.next_node = None"
   ]
  },
  {
   "cell_type": "code",
   "execution_count": 3,
   "metadata": {},
   "outputs": [],
   "source": [
    "a = Node(1)\n",
    "b = Node(2)\n",
    "c = Node(3)\n",
    "\n",
    "a.nextnode = b\n",
    "b.nextnode = c"
   ]
  },
  {
   "cell_type": "code",
   "execution_count": 6,
   "metadata": {},
   "outputs": [
    {
     "name": "stdout",
     "output_type": "stream",
     "text": [
      "1\n",
      "2\n"
     ]
    }
   ],
   "source": [
    "print(a.value)\n",
    "print(a.nextnode.value)"
   ]
  },
  {
   "cell_type": "markdown",
   "metadata": {},
   "source": [
    "### Pros and Cons of Singly Linked Lists\n",
    "1. Insertion and Deletion is constant time (Vs. linear time for arrays)\n",
    "2. Can expand without needing to specify the amount of space needed\n",
    "3. To access an element, it's O(n) (Vs. constant time with arrays)"
   ]
  },
  {
   "cell_type": "markdown",
   "metadata": {},
   "source": [
    "## Doubly Linked Lists\n",
    "- A **doubly-linked list** is a linked list in which each node keeps an explicit reference to the node before it (previous) and a reference to the node after it (next)\n",
    "- The ends of a doubly-linked list are considered special nodes called sentinels:\n",
    "    1. Header: Appears at the beginning of the list\n",
    "    2. Trailer: Appears at the end of the list\n",
    "- Whenever an item is inserted into a doubly-linked list, it will always take place between a pair of existing nodes (i.e. if a node is inserted at the front, it will still appear after the header sentinel)\n",
    "- If a node is deleted, the neighbors of the node will be linked directly to each other"
   ]
  },
  {
   "cell_type": "markdown",
   "metadata": {},
   "source": [
    "### Implementation of a Doubly-Linked List"
   ]
  },
  {
   "cell_type": "code",
   "execution_count": 1,
   "metadata": {},
   "outputs": [],
   "source": [
    "class Node():\n",
    "    def __init__(self, value):\n",
    "        self.value = value\n",
    "        self.next_node = None\n",
    "        self.prev_node = None"
   ]
  },
  {
   "cell_type": "code",
   "execution_count": 2,
   "metadata": {},
   "outputs": [],
   "source": [
    "a = Node(1)\n",
    "b = Node(2)\n",
    "c = Node(3)"
   ]
  },
  {
   "cell_type": "code",
   "execution_count": null,
   "metadata": {},
   "outputs": [],
   "source": [
    "a.next_node = b\n",
    "\n",
    "b.prev_node = a\n",
    "b.prev_node = c\n",
    "\n",
    "c.prev_node = b"
   ]
  },
  {
   "cell_type": "markdown",
   "metadata": {},
   "source": [
    "## Interview Problems"
   ]
  },
  {
   "cell_type": "markdown",
   "metadata": {},
   "source": [
    "### Singly-Linked List Cycle Check\n",
    "*A **cycle** is defined as when a node's next point points back to a previous node in the list*"
   ]
  },
  {
   "cell_type": "code",
   "execution_count": 1,
   "metadata": {},
   "outputs": [],
   "source": [
    "class Node():\n",
    "    def __init__(self, value):\n",
    "        self.value = value\n",
    "        self.next_node = None"
   ]
  },
  {
   "cell_type": "code",
   "execution_count": 2,
   "metadata": {},
   "outputs": [],
   "source": [
    "# Cyclical Linked List\n",
    "\n",
    "a = Node(1)\n",
    "b = Node(2)\n",
    "c = Node(3)\n",
    "\n",
    "a.next_node = b\n",
    "b.next_node = c\n",
    "c.next_node = a"
   ]
  },
  {
   "cell_type": "code",
   "execution_count": 3,
   "metadata": {},
   "outputs": [],
   "source": [
    "# Course Solution \n",
    "\n",
    "def cycle_check(node):\n",
    "    marker_1 = node\n",
    "    marker_2 = node\n",
    "    \n",
    "    while marker_2 != None and marker_2.next_node != None:\n",
    "        \n",
    "        marker_1 = marker_1.next_node\n",
    "        marker_2 = marker_2.next_node.next_node\n",
    "        \n",
    "        if marker_2 == marker_1:\n",
    "            return True\n",
    "    \n",
    "    return False"
   ]
  },
  {
   "cell_type": "markdown",
   "metadata": {},
   "source": [
    "### Linked List Reversal"
   ]
  },
  {
   "cell_type": "code",
   "execution_count": 1,
   "metadata": {},
   "outputs": [],
   "source": [
    "class Node():\n",
    "    def __init__(self, value):\n",
    "        self.value = value\n",
    "        self.next_node = None"
   ]
  },
  {
   "cell_type": "code",
   "execution_count": null,
   "metadata": {},
   "outputs": [],
   "source": [
    "def reverse(head):\n",
    "    current = head\n",
    "    previous = None\n",
    "    next_node = None\n",
    "    \n",
    "    while current:\n",
    "        next_node = current.next_node\n",
    "        current.next_node = previous\n",
    "        previous = current\n",
    "        current = nextnode\n",
    "    \n",
    "    return previous"
   ]
  },
  {
   "cell_type": "markdown",
   "metadata": {},
   "source": [
    "### Linked List Nth to Last Node"
   ]
  },
  {
   "cell_type": "code",
   "execution_count": 2,
   "metadata": {},
   "outputs": [],
   "source": [
    "class Node():\n",
    "    def __init__(self, value):\n",
    "        self.value = value\n",
    "        self.next_node = None"
   ]
  },
  {
   "cell_type": "code",
   "execution_count": 3,
   "metadata": {},
   "outputs": [],
   "source": [
    "def nth_to_last_node(n, head):\n",
    "    \n",
    "    # Set both pointers at the head\n",
    "    left_pointer = head\n",
    "    right_pointer = head\n",
    "    \n",
    "    # Move the right pointer n nodes away from the head\n",
    "    for i in range(n-1):\n",
    "        if not right_pointer.next(node):\n",
    "            raise LookupError('Error: n is larger than the linked list')\n",
    "        \n",
    "        right_pointer = right_pointer.next_node\n",
    "        \n",
    "    # Keep moving the pointer until the right pointer reaches the end\n",
    "    while right_pointer.next_node:\n",
    "        left_pointer = left_pointer.next_node\n",
    "        right_pointer = right_pointer.next_node\n",
    "        \n",
    "    # The left pointer will be at the nth to the last node    \n",
    "    return left_pointer    "
   ]
  },
  {
   "cell_type": "code",
   "execution_count": null,
   "metadata": {},
   "outputs": [],
   "source": []
  }
 ],
 "metadata": {
  "kernelspec": {
   "display_name": "Python 3",
   "language": "python",
   "name": "python3"
  },
  "language_info": {
   "codemirror_mode": {
    "name": "ipython",
    "version": 3
   },
   "file_extension": ".py",
   "mimetype": "text/x-python",
   "name": "python",
   "nbconvert_exporter": "python",
   "pygments_lexer": "ipython3",
   "version": "3.7.6"
  }
 },
 "nbformat": 4,
 "nbformat_minor": 4
}
