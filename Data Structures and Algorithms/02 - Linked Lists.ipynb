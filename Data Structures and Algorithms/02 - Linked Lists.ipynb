{
 "cells": [
  {
   "cell_type": "markdown",
   "metadata": {},
   "source": [
    "# Linked Lists"
   ]
  },
  {
   "cell_type": "markdown",
   "metadata": {},
   "source": [
    "## Singly Linked Lists\n",
    "### What is a singly linked list?\n",
    "- A **singly linked list** is a collection of **nodes** that collectively form a linear sequence. \n",
    "- Each **node** stores a **reference to an object** that is an element of the sequence and a **reference to the next node** of the list. \n",
    "- The **head** is the first node of the linked list, and it has nothing pointing to it.\n",
    "- The **tail** is the last node of the linked list, and it points to None or nothing. \n",
    "- Going through the nodes is known as **traversing** a linked list (also known as hopping)\n",
    "### Inserting elements into a singly linked list\n",
    "- Linked lists do not have a predetermined, fixed size. The space it uses is proportional to its current number of elements.\n",
    "- To insert a new element at the **head** of a linked list:\n",
    "    1. Create a new node\n",
    "    2. Set its element to the new element\n",
    "    3. Set the next link to refer to the current head\n",
    "    4. Set the list's head to point to a new node\n",
    "- To insert a new element at the **tail** of a linked list:\n",
    "    1. Create a new node\n",
    "    2. Assign its next reference to None\n",
    "    3. Set the next reference of the previous tail to point to the new node \n",
    "    4. Update the tail reference to be the new tail\n",
    "### Removing an element from a singly linked list\n",
    "- To remove an element from the **head** of a linked list:\n",
    "    1. Point the head to the next element\n",
    "    2. Remove old head\n",
    "- To remove an element from the **tail** of a linked list:\n",
    "    - Not easily done; Requires making a doubly linked list"
   ]
  },
  {
   "cell_type": "markdown",
   "metadata": {},
   "source": [
    "### Implementing a Singly Linked List"
   ]
  },
  {
   "cell_type": "code",
   "execution_count": 2,
   "metadata": {},
   "outputs": [],
   "source": [
    "class Node():\n",
    "    def __init__(self, value):\n",
    "        self.value = value\n",
    "        self.next_node = None"
   ]
  },
  {
   "cell_type": "code",
   "execution_count": 3,
   "metadata": {},
   "outputs": [],
   "source": [
    "a = Node(1)\n",
    "b = Node(2)\n",
    "c = Node(3)\n",
    "\n",
    "a.nextnode = b\n",
    "b.nextnode = c"
   ]
  },
  {
   "cell_type": "code",
   "execution_count": 6,
   "metadata": {},
   "outputs": [
    {
     "name": "stdout",
     "output_type": "stream",
     "text": [
      "1\n",
      "2\n"
     ]
    }
   ],
   "source": [
    "print(a.value)\n",
    "print(a.nextnode.value)"
   ]
  },
  {
   "cell_type": "markdown",
   "metadata": {},
   "source": [
    "### Pros and Cons of Singly Linked Lists\n",
    "1. Insertion and Deletion is constant time (Vs. linear time for arrays)\n",
    "2. Can expand without needing to specify the amount of space needed\n",
    "3. To access an element, it's O(n) (Vs. constant time with arrays)"
   ]
  },
  {
   "cell_type": "markdown",
   "metadata": {},
   "source": [
    "## Doubly Linked Lists"
   ]
  },
  {
   "cell_type": "markdown",
   "metadata": {},
   "source": [
    "## Interview Problems"
   ]
  },
  {
   "cell_type": "code",
   "execution_count": null,
   "metadata": {},
   "outputs": [],
   "source": []
  }
 ],
 "metadata": {
  "kernelspec": {
   "display_name": "Python 3",
   "language": "python",
   "name": "python3"
  },
  "language_info": {
   "codemirror_mode": {
    "name": "ipython",
    "version": 3
   },
   "file_extension": ".py",
   "mimetype": "text/x-python",
   "name": "python",
   "nbconvert_exporter": "python",
   "pygments_lexer": "ipython3",
   "version": "3.7.6"
  }
 },
 "nbformat": 4,
 "nbformat_minor": 4
}
