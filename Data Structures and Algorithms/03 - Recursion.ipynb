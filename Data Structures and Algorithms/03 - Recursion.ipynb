{
 "cells": [
  {
   "cell_type": "markdown",
   "metadata": {},
   "source": [
    "# Recursion"
   ]
  },
  {
   "cell_type": "markdown",
   "metadata": {},
   "source": [
    "## What is recursion?\n",
    "\n",
    "- Two main instances:\n",
    "    1. A technique in which a function makes one or more calls to itself\n",
    "    2. A technique in which a data structure uses smaller instances of the exact same data structure when it represents itself\n",
    "- It is a powerful alternative to a loop for performing repetitions of a task"
   ]
  },
  {
   "cell_type": "markdown",
   "metadata": {},
   "source": [
    "### Examples\n",
    "#### Factorial Function\n",
    "Base Case: 0! = 1  \n",
    "Recursive Cases: n! = n * (n-1)!"
   ]
  },
  {
   "cell_type": "code",
   "execution_count": null,
   "metadata": {},
   "outputs": [],
   "source": [
    "def n_factorial(n):\n",
    "    # Base Case\n",
    "    if n == 0:\n",
    "        return 1\n",
    "    \n",
    "    \n",
    "    \n",
    "    \n",
    "    "
   ]
  }
 ],
 "metadata": {
  "kernelspec": {
   "display_name": "Python 3",
   "language": "python",
   "name": "python3"
  },
  "language_info": {
   "codemirror_mode": {
    "name": "ipython",
    "version": 3
   },
   "file_extension": ".py",
   "mimetype": "text/x-python",
   "name": "python",
   "nbconvert_exporter": "python",
   "pygments_lexer": "ipython3",
   "version": "3.7.6"
  }
 },
 "nbformat": 4,
 "nbformat_minor": 4
}
