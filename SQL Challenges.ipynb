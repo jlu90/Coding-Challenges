{
 "cells": [
  {
   "cell_type": "markdown",
   "metadata": {},
   "source": [
    "# Leet Code"
   ]
  },
  {
   "cell_type": "markdown",
   "metadata": {},
   "source": [
    "#### Second Highest Salary"
   ]
  },
  {
   "cell_type": "markdown",
   "metadata": {},
   "source": [
    "```sql\n",
    "SELECT (SELECT DISTINCT salary\n",
    "FROM employee\n",
    "ORDER BY salary DESC\n",
    "LIMIT 1\n",
    "OFFSET 1) as SecondHighestSalary\n",
    "```"
   ]
  },
  {
   "cell_type": "markdown",
   "metadata": {},
   "source": [
    "```sql\n",
    "SELECT \n",
    "    IFNULL((SELECT DISTINCT salary\n",
    "    FROM employee\n",
    "    ORDER BY salary DESC\n",
    "    LIMIT 1\n",
    "    OFFSET 1, NULL)) as SecondHighestSalary\n",
    "```"
   ]
  },
  {
   "cell_type": "markdown",
   "metadata": {},
   "source": [
    "#### Duplicate Emails"
   ]
  },
  {
   "cell_type": "markdown",
   "metadata": {},
   "source": [
    "```sql\n",
    "SELECT email\n",
    "FROM person\n",
    "GROUP BY email\n",
    "HAVING COUNT(email) > 1\n",
    "```"
   ]
  },
  {
   "cell_type": "markdown",
   "metadata": {},
   "source": [
    "#### Employees Earn More Than Manager"
   ]
  },
  {
   "cell_type": "markdown",
   "metadata": {},
   "source": [
    "```sql\n",
    "SELECT a.name AS Employee\n",
    "FROM employee AS a, employee as B\n",
    "WHERE a.ManagerId = b.Id AND a.Salary > b.Salary;\n",
    "```"
   ]
  },
  {
   "cell_type": "markdown",
   "metadata": {},
   "source": [
    "#### Customers Who Never Order"
   ]
  },
  {
   "cell_type": "markdown",
   "metadata": {},
   "source": [
    "```sql\n",
    "SELECT Name AS Customers\n",
    "FROM Customers\n",
    "WHERE Id NOT IN (SELECT CustomerId FROM Orders);\n",
    "```"
   ]
  },
  {
   "cell_type": "markdown",
   "metadata": {},
   "source": [
    "#### Delete Duplicate Emails"
   ]
  },
  {
   "cell_type": "markdown",
   "metadata": {},
   "source": [
    "```sql\n",
    "DELETE p1 FROM person p1, person p2\n",
    "WHERE p1.email = p2.email AND p1.Id > p2.Id;\n",
    "```"
   ]
  },
  {
   "cell_type": "markdown",
   "metadata": {},
   "source": [
    "#### Big Countries"
   ]
  },
  {
   "cell_type": "markdown",
   "metadata": {},
   "source": [
    "```sql\n",
    "SELECT name, population, area\n",
    "FROM world \n",
    "WHERE area > 3000000 OR population > 25000000;\n",
    "```"
   ]
  },
  {
   "cell_type": "markdown",
   "metadata": {},
   "source": [
    "### Swap Salaries"
   ]
  },
  {
   "cell_type": "markdown",
   "metadata": {},
   "source": [
    "#### Leet Code Solution"
   ]
  },
  {
   "cell_type": "markdown",
   "metadata": {},
   "source": [
    "```sql\n",
    "UPDATE salary\n",
    "SET\n",
    "    sex = CASE sex\n",
    "        WHEN 'm' THEN 'f'\n",
    "        ELSE 'm'\n",
    "    END;\n",
    "```"
   ]
  },
  {
   "cell_type": "markdown",
   "metadata": {},
   "source": [
    "### Not Boring Movies"
   ]
  },
  {
   "cell_type": "markdown",
   "metadata": {},
   "source": [
    "#### My solution"
   ]
  },
  {
   "cell_type": "markdown",
   "metadata": {},
   "source": [
    "```sql\n",
    "SELECT * \n",
    "FROM cinema\n",
    "WHERE id % 2 != 0 AND description NOT LIKE '%boring%'\n",
    "ORDER BY rating DESC;\n",
    "```"
   ]
  },
  {
   "cell_type": "markdown",
   "metadata": {},
   "source": [
    "### Rising Temperatures"
   ]
  },
  {
   "cell_type": "markdown",
   "metadata": {},
   "source": [
    "```sql\n",
    "SELECT w1.id \n",
    "FROM weather w1\n",
    "    JOIN weather w2 ON DATEDIFF(w1.recordDate, w2.recordDate) = 1\n",
    "WHERE w1.temperature > w2.temperature\n",
    "```"
   ]
  },
  {
   "cell_type": "markdown",
   "metadata": {},
   "source": [
    "### Classes More than 5 Students"
   ]
  },
  {
   "cell_type": "markdown",
   "metadata": {},
   "source": [
    "```sql\n",
    "SELECT class\n",
    "FROM courses\n",
    "GROUP BY class\n",
    "HAVING COUNT(DISTINCT(student)) >= 5;\n",
    "```"
   ]
  },
  {
   "cell_type": "markdown",
   "metadata": {},
   "source": [
    "### Reformat Department Table"
   ]
  },
  {
   "cell_type": "markdown",
   "metadata": {},
   "source": [
    "```sql\n",
    "SELECT id,\n",
    "    SUM(CASE WHEN month = 'Jan' THEN revenue END) AS Jan_Revenue\n",
    "    SUM(CASE WHEN month = 'Feb' THEN revenue END) AS Feb_Revenue\n",
    "    SUM(CASE WHEN month = 'Mar' THEN revenue END) AS Mar_Revenue\n",
    "    SUM(CASE WHEN month = 'Apr' THEN revenue END) AS Apr_Revenue\n",
    "    SUM(CASE WHEN month = 'May' THEN revenue END) AS May_Revenue\n",
    "    SUM(CASE WHEN month = 'Jun' THEN revenue END) AS Jun_Revenue\n",
    "    SUM(CASE WHEN month = 'Jul' THEN revenue END) AS Jul_Revenue\n",
    "    SUM(CASE WHEN month = 'Aug' THEN revenue END) AS Aug_Revenue\n",
    "    SUM(CASE WHEN month = 'Sep' THEN revenue END) AS Sep_Revenue\n",
    "    SUM(CASE WHEN month = 'Oct' THEN revenue END) AS Oct_Revenue\n",
    "    SUM(CASE WHEN month = 'Nov' THEN revenue END) AS Nov_Revenue\n",
    "    SUM(CASE WHEN month = 'Dec' THEN revenue END) AS Dec_Revenue\n",
    "FROM department\n",
    "GROUP BY id;\n",
    "```"
   ]
  },
  {
   "cell_type": "markdown",
   "metadata": {},
   "source": [
    "#### Department Highest Salary"
   ]
  },
  {
   "cell_type": "markdown",
   "metadata": {},
   "source": [
    "```sql\n",
    "SELECT d.name AS Department, e.Name AS Employee, e.Salary \n",
    "FROM employee e\n",
    "    JOIN department d ON d.id = e.DepartmentId\n",
    "WHERE (e.DepartmentId, e.Salary) IN (SELECT DepartmentId, MAX(Salary) FROM employee GROUP BY DepartmentId);\n",
    "\n",
    "```"
   ]
  },
  {
   "cell_type": "markdown",
   "metadata": {},
   "source": [
    "#### Rank Scores"
   ]
  },
  {
   "cell_type": "markdown",
   "metadata": {},
   "source": [
    "```sql\n",
    "SELECT score, DENSE_RANK() OVER(ORDER BY score DESC) AS 'Rank'\n",
    "FROM scores\n",
    "ORDER BY score DESC;\n",
    "```"
   ]
  },
  {
   "cell_type": "markdown",
   "metadata": {},
   "source": [
    "#### Get Nth Highest Salary"
   ]
  },
  {
   "cell_type": "markdown",
   "metadata": {},
   "source": [
    "```sql\n",
    "CREATE FUNCTION getNthHighestSalary(N INT) RETURNS INT\n",
    "BEGIN\n",
    "SET N = N-1;\n",
    "  RETURN (\n",
    "      SELECT DISTINCT salary\n",
    "      FROM employee\n",
    "      ORDER BY salary DESC\n",
    "      LIMIT 1\n",
    "      OFFSET N);\n",
    "  END\n",
    "```"
   ]
  },
  {
   "cell_type": "markdown",
   "metadata": {},
   "source": [
    "### Human Traffic of Stadium"
   ]
  },
  {
   "cell_type": "markdown",
   "metadata": {},
   "source": [
    "Leetcode Solution Walkthrough\n",
    "\n",
    "```sql\n",
    "SELECT DISTINCT s1.*\n",
    "FROM stadium s1, stadium s2, stadium s3\n",
    "WHERE s1.people >= 100 AND s2.people >= 100 and s3. people >= 100 AND\n",
    "((s1.id - s2.id = 1 AND s1.id - s3.id = 2 AND s2.id - s3.id = 1) OR\n",
    " (s2.id - s1.id = 1 AND s2.id - s3.id = 2 AND s1.id - s3.id = 1) OR\n",
    " (s3.id - s2.id = 1 AND s2.id - s1.id = 1 AND s3.id - s1.id = 2))\n",
    "ORDER BY s1.id;\n",
    "```"
   ]
  },
  {
   "cell_type": "markdown",
   "metadata": {},
   "source": [
    "# Hacker Rank"
   ]
  },
  {
   "cell_type": "markdown",
   "metadata": {},
   "source": [
    "```sql\n",
    "SELECT hacker_id, name\n",
    "FROM hackers h\n",
    "    JOIN challenges c ON c.hacker_id = h.hacker_id\n",
    "    JOIN submissions\n",
    "```"
   ]
  },
  {
   "cell_type": "markdown",
   "metadata": {},
   "source": [
    "#### Olivander's Inventory"
   ]
  },
  {
   "cell_type": "markdown",
   "metadata": {},
   "source": [
    "```sql\n",
    "SELECT W.id, P.age, W.coins_needed, W.power\n",
    "FROM WANDS AS W\n",
    "    INNER JOIN WANDS_PROPERTY AS P ON W.code = P.code\n",
    "WHERE P.is_evil = 0 AND W.coins_needed = \n",
    "    (SELECT MIN(coins_needed)\n",
    "     FROM WANDS AS W1\n",
    "        INNER JOIN WANDS_PROPERTY AS P1 ON W1.code = P1.code\n",
    "     WHERE W1.power = W.power AND P1.age = P.age)\n",
    "ORDER BY W.power DESC, P.age DESC\n",
    "```"
   ]
  },
  {
   "cell_type": "markdown",
   "metadata": {},
   "source": [
    "#### Contest Leaderboard"
   ]
  },
  {
   "cell_type": "markdown",
   "metadata": {},
   "source": [
    "```sql\n",
    "SELECT h.hacker_id, h.name, SUM(s2.high_score) as total_score\n",
    "FROM hackers h\n",
    "    JOIN (SELECT s.hacker_id, MAX(s.score) as high_score FROM submissions s\n",
    "     GROUP BY s.challenge_id, s.hacker_id) AS s2\n",
    "     ON h.hacker_id = s2.hacker_id\n",
    "WHERE s2.high_score > 0\n",
    "GROUP BY h.hacker_id, h.name\n",
    "ORDER BY total_score DESC, h.hacker_id;\n",
    "```"
   ]
  },
  {
   "cell_type": "markdown",
   "metadata": {},
   "source": [
    "## Data Interview Q's\n",
    "### Airbnb stays by country\n",
    "Suppose you work for Airbnb as an analyst. A team has come to you asking for a ranked list containing total # stays as well as total revenue, split by country. The time frame they're looking for is all stays that began in 2018. You can sort the list in descending order by revenue."
   ]
  },
  {
   "cell_type": "markdown",
   "metadata": {},
   "source": [
    "```sql\n",
    "SELECT pl.country, COUNT(s.property_id) AS total_stays, SUM(s.revenue) AS total_revenue\n",
    "FROM stays_info s\n",
    "    JOIN property_location_info pl ON s.property_id = pl.property_id\n",
    "GROUP BY pl.country\n",
    "ORDER BY total_revenue DESC\n",
    "```"
   ]
  },
  {
   "cell_type": "markdown",
   "metadata": {},
   "source": [
    "## Code Wars"
   ]
  },
  {
   "cell_type": "markdown",
   "metadata": {},
   "source": [
    "### Trivia Night: Country Capitals"
   ]
  },
  {
   "cell_type": "markdown",
   "metadata": {},
   "source": [
    "```sql\n",
    "SELECT capital \n",
    "FROM countries\n",
    "WHERE continent IN ('Africa', 'Afrika') and country ILIKE 'E%'\n",
    "ORDER BY capital\n",
    "LIMIT 3;\n",
    "```"
   ]
  },
  {
   "cell_type": "markdown",
   "metadata": {},
   "source": [
    "### Top 10 Customers by Payment Amount"
   ]
  },
  {
   "cell_type": "markdown",
   "metadata": {},
   "source": [
    "```sql\n",
    "SELECT c.customer_id, c.email, COUNT(p.payment_id) AS payments_count, CAST(SUM(amount) AS FLOAT) AS total_amount\n",
    "FROM customer c\n",
    "  JOIN payment p ON p.customer_id = c.customer_id\n",
    "GROUP BY c.customer_id\n",
    "ORDER BY total_amount DESC\n",
    "LIMIT 10;\n",
    "```"
   ]
  },
  {
   "cell_type": "markdown",
   "metadata": {},
   "source": [
    "### Batting Average"
   ]
  },
  {
   "cell_type": "markdown",
   "metadata": {},
   "source": [
    "```sql\n",
    "SELECT player_name, SUM(games) AS games, CAST(ROUND(SUM(hits) * 1.0 / SUM(at_bats), 3) AS VARCHAR) AS batting_average\n",
    "FROM yankees\n",
    "GROUP BY player_name, games\n",
    "HAVING SUM(at_bats) >= 100\n",
    "ORDER BY batting_average DESC;\n",
    "```"
   ]
  },
  {
   "cell_type": "markdown",
   "metadata": {},
   "source": [
    "### SQL Statistics: Min, Median, Max"
   ]
  },
  {
   "cell_type": "markdown",
   "metadata": {},
   "source": [
    "```sql\n",
    "SELECT MIN(score) AS min, PERCENTILE_CONT(0.5) WITHIN GROUP(ORDER BY score)  AS median, MAX(SCORE) AS max\n",
    "FROM student s\n",
    "JOIN result r ON s.id = r.student_id\n",
    "```"
   ]
  },
  {
   "cell_type": "markdown",
   "metadata": {},
   "source": [
    "### Conditional Count"
   ]
  },
  {
   "cell_type": "markdown",
   "metadata": {},
   "source": [
    "```sql\n",
    "SELECT \n",
    "    EXTRACT(MONTH FROM payment_date) AS month,\n",
    "    COUNT(*) AS total_count,\n",
    "    SUM(amount) AS total_amount,\n",
    "    COUNT(*) FILTER (WHERE staff_id = 1) AS mike_count,\n",
    "    SUM(AMOUNT) FILTER (WHERE staff_id = 1) AS mike_amount,\n",
    "    COUNT(*) FILTER (WHERE staff_id =  2) AS jon_count,\n",
    "    SUM(amount) FILTER (WHERE staff_id = 2) AS jon_amount\n",
    "FROM payment\n",
    "GROUP BY month\n",
    "ORDER BY month;\n",
    "```"
   ]
  },
  {
   "cell_type": "markdown",
   "metadata": {},
   "source": [
    "### Best-Selling Books"
   ]
  },
  {
   "cell_type": "markdown",
   "metadata": {},
   "source": [
    "```sql\n",
    "SELECT name, author, copies_sold\n",
    "FROM books\n",
    "ORDER BY copies_sold DESC\n",
    "LIMIT 5;\n",
    "```"
   ]
  },
  {
   "cell_type": "code",
   "execution_count": null,
   "metadata": {},
   "outputs": [],
   "source": []
  }
 ],
 "metadata": {
  "kernelspec": {
   "display_name": "Python 3",
   "language": "python",
   "name": "python3"
  },
  "language_info": {
   "codemirror_mode": {
    "name": "ipython",
    "version": 3
   },
   "file_extension": ".py",
   "mimetype": "text/x-python",
   "name": "python",
   "nbconvert_exporter": "python",
   "pygments_lexer": "ipython3",
   "version": "3.7.6"
  }
 },
 "nbformat": 4,
 "nbformat_minor": 4
}
