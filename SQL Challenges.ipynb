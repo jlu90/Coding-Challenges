{
 "cells": [
  {
   "cell_type": "markdown",
   "metadata": {},
   "source": [
    "# Leet Code"
   ]
  },
  {
   "cell_type": "markdown",
   "metadata": {},
   "source": [
    "#### Second Highest Salary"
   ]
  },
  {
   "cell_type": "markdown",
   "metadata": {},
   "source": [
    "```sql\n",
    "SELECT (SELECT DISTINCT salary\n",
    "FROM employee\n",
    "ORDER BY salary DESC\n",
    "LIMIT 1\n",
    "OFFSET 1) as SecondHighestSalary\n",
    "```"
   ]
  },
  {
   "cell_type": "markdown",
   "metadata": {},
   "source": [
    "```sql\n",
    "SELECT \n",
    "    IFNULL((SELECT DISTINCT salary\n",
    "    FROM employee\n",
    "    ORDER BY salary DESC\n",
    "    LIMIT 1\n",
    "    OFFSET 1, NULL)) as SecondHighestSalary\n",
    "```"
   ]
  },
  {
   "cell_type": "markdown",
   "metadata": {},
   "source": [
    "#### Duplicate Emails"
   ]
  },
  {
   "cell_type": "markdown",
   "metadata": {},
   "source": [
    "```sql\n",
    "SELECT email\n",
    "FROM person\n",
    "GROUP BY email\n",
    "HAVING COUNT(email) > 1\n",
    "```"
   ]
  },
  {
   "cell_type": "markdown",
   "metadata": {},
   "source": [
    "#### Employees Earn More Than Manager"
   ]
  },
  {
   "cell_type": "markdown",
   "metadata": {},
   "source": [
    "```sql\n",
    "SELECT a.name AS Employee\n",
    "FROM employee AS a, employee as B\n",
    "WHERE a.ManagerId = b.Id AND a.Salary > b.Salary;\n",
    "```"
   ]
  },
  {
   "cell_type": "markdown",
   "metadata": {},
   "source": [
    "#### Customers Who Never Order"
   ]
  },
  {
   "cell_type": "markdown",
   "metadata": {},
   "source": [
    "```sql\n",
    "SELECT Name AS Customers\n",
    "FROM Customers\n",
    "WHERE Id NOT IN (SELECT CustomerId FROM Orders);\n",
    "```"
   ]
  },
  {
   "cell_type": "markdown",
   "metadata": {},
   "source": [
    "#### Delete Duplicate Emails"
   ]
  },
  {
   "cell_type": "markdown",
   "metadata": {},
   "source": [
    "```sql\n",
    "DELETE p1 FROM person p1, person p2\n",
    "WHERE p1.email = p2.email AND p1.Id > p2.Id;\n",
    "```"
   ]
  },
  {
   "cell_type": "markdown",
   "metadata": {},
   "source": [
    "#### Big Countries"
   ]
  },
  {
   "cell_type": "markdown",
   "metadata": {},
   "source": [
    "```sql\n",
    "SELECT name, population, area\n",
    "FROM world \n",
    "WHERE area > 3000000 OR population > 25000000;\n",
    "```"
   ]
  },
  {
   "cell_type": "markdown",
   "metadata": {},
   "source": [
    "### Swap Salaries"
   ]
  },
  {
   "cell_type": "markdown",
   "metadata": {},
   "source": [
    "#### Leet Code Solution"
   ]
  },
  {
   "cell_type": "markdown",
   "metadata": {},
   "source": [
    "```sql\n",
    "UPDATE salary\n",
    "SET\n",
    "    sex = CASE sex\n",
    "        WHEN 'm' THEN 'f'\n",
    "        ELSE 'm'\n",
    "    END;\n",
    "```"
   ]
  },
  {
   "cell_type": "markdown",
   "metadata": {},
   "source": [
    "### Not Boring Movies"
   ]
  },
  {
   "cell_type": "markdown",
   "metadata": {},
   "source": [
    "#### My solution"
   ]
  },
  {
   "cell_type": "markdown",
   "metadata": {},
   "source": [
    "```sql\n",
    "SELECT * \n",
    "FROM cinema\n",
    "WHERE id % 2 != 0 AND description NOT LIKE '%boring%'\n",
    "ORDER BY rating DESC;\n",
    "```"
   ]
  },
  {
   "cell_type": "markdown",
   "metadata": {},
   "source": [
    "### Rising Temperatures"
   ]
  },
  {
   "cell_type": "markdown",
   "metadata": {},
   "source": [
    "```sql\n",
    "SELECT w1.id \n",
    "FROM weather w1\n",
    "    JOIN weather w2 ON DATEDIFF(w1.recordDate, w2.recordDate) = 1\n",
    "WHERE w1.temperature > w2.temperature\n",
    "```"
   ]
  },
  {
   "cell_type": "markdown",
   "metadata": {},
   "source": [
    "# Hacker Rank"
   ]
  },
  {
   "cell_type": "markdown",
   "metadata": {},
   "source": [
    "```sql\n",
    "SELECT hacker_id, name\n",
    "FROM hackers h\n",
    "    JOIN challenges c ON c.hacker_id = h.hacker_id\n",
    "    JOIN submissions\n",
    "```"
   ]
  },
  {
   "cell_type": "markdown",
   "metadata": {},
   "source": [
    "#### Olivander's Inventory"
   ]
  },
  {
   "cell_type": "markdown",
   "metadata": {},
   "source": [
    "```sql\n",
    "SELECT W.id, P.age, W.coins_needed, W.power\n",
    "FROM WANDS AS W\n",
    "    INNER JOIN WANDS_PROPERTY AS P ON W.code = P.code\n",
    "WHERE P.is_evil = 0 AND W.coins_needed = \n",
    "    (SELECT MIN(coins_needed)\n",
    "     FROM WANDS AS W1\n",
    "        INNER JOIN WANDS_PROPERTY AS P1 ON W1.code = P1.code\n",
    "     WHERE W1.power = W.power AND P1.age = P.age)\n",
    "ORDER BY W.power DESC, P.age DESC\n",
    "```"
   ]
  },
  {
   "cell_type": "markdown",
   "metadata": {},
   "source": [
    "#### Contest Leaderboard"
   ]
  },
  {
   "cell_type": "markdown",
   "metadata": {},
   "source": [
    "```sql\n",
    "SELECT h.hacker_id, h.name, SUM(s2.high_score) as total_score\n",
    "FROM hackers h\n",
    "    JOIN (SELECT s.hacker_id, MAX(s.score) as high_score FROM submissions s\n",
    "     GROUP BY s.challenge_id, s.hacker_id) AS s2\n",
    "     ON h.hacker_id = s2.hacker_id\n",
    "WHERE s2.high_score > 0\n",
    "GROUP BY h.hacker_id, h.name\n",
    "ORDER BY total_score DESC, h.hacker_id;\n",
    "```"
   ]
  },
  {
   "cell_type": "code",
   "execution_count": null,
   "metadata": {},
   "outputs": [],
   "source": []
  }
 ],
 "metadata": {
  "kernelspec": {
   "display_name": "Python 3",
   "language": "python",
   "name": "python3"
  },
  "language_info": {
   "codemirror_mode": {
    "name": "ipython",
    "version": 3
   },
   "file_extension": ".py",
   "mimetype": "text/x-python",
   "name": "python",
   "nbconvert_exporter": "python",
   "pygments_lexer": "ipython3",
   "version": "3.7.6"
  }
 },
 "nbformat": 4,
 "nbformat_minor": 4
}
