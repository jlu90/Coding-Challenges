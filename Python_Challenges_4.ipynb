{
 "cells": [
  {
   "cell_type": "markdown",
   "metadata": {},
   "source": [
    "## Code Wars"
   ]
  },
  {
   "cell_type": "markdown",
   "metadata": {},
   "source": [
    "### Alphabet War"
   ]
  },
  {
   "cell_type": "code",
   "execution_count": 1,
   "metadata": {},
   "outputs": [],
   "source": [
    "def alphabet_war(fight):\n",
    "    left_letters = {'w':4, 'p':3, 'b':2, 's':1}\n",
    "    right_letters = {'m': 4, 'q': 3, 'd': 2, 'z': 1}\n",
    "    \n",
    "    left = 0\n",
    "    right = 0 \n",
    "    \n",
    "    for char in fight:\n",
    "        if char in left_letters:\n",
    "            left += left_letters[char]\n",
    "        elif char in right_letters:\n",
    "            right += right_letters[char]\n",
    "        else:\n",
    "            pass\n",
    "    \n",
    "    if left > right:\n",
    "        return 'Left side wins!'\n",
    "    elif right > left:\n",
    "        return 'Right side wins!'\n",
    "    \n",
    "    return 'Let\\'s fight again!'"
   ]
  },
  {
   "cell_type": "markdown",
   "metadata": {},
   "source": [
    "### Growth of a Population"
   ]
  },
  {
   "cell_type": "code",
   "execution_count": 2,
   "metadata": {},
   "outputs": [],
   "source": [
    "def pop_growth(p0, percent_increase, extra_change, pop_goal):\n",
    "    percent_increase = percent_increase / 100\n",
    "    pop = p0\n",
    "    counter = 0\n",
    "    \n",
    "    while pop < pop_goal:\n",
    "        pop += (pop * percent_increase)\n",
    "        pop += extra_change\n",
    "        counter += 1\n",
    "    \n",
    "    return counter"
   ]
  },
  {
   "cell_type": "code",
   "execution_count": 3,
   "metadata": {},
   "outputs": [
    {
     "data": {
      "text/plain": [
       "15"
      ]
     },
     "execution_count": 3,
     "metadata": {},
     "output_type": "execute_result"
    }
   ],
   "source": [
    "pop_growth(1500, 5, 100, 5000)"
   ]
  },
  {
   "cell_type": "code",
   "execution_count": 4,
   "metadata": {},
   "outputs": [
    {
     "data": {
      "text/plain": [
       "10"
      ]
     },
     "execution_count": 4,
     "metadata": {},
     "output_type": "execute_result"
    }
   ],
   "source": [
    "pop_growth(1500000, 2.5, 10000, 2000000)"
   ]
  },
  {
   "cell_type": "code",
   "execution_count": null,
   "metadata": {},
   "outputs": [],
   "source": []
  }
 ],
 "metadata": {
  "kernelspec": {
   "display_name": "Python 3",
   "language": "python",
   "name": "python3"
  },
  "language_info": {
   "codemirror_mode": {
    "name": "ipython",
    "version": 3
   },
   "file_extension": ".py",
   "mimetype": "text/x-python",
   "name": "python",
   "nbconvert_exporter": "python",
   "pygments_lexer": "ipython3",
   "version": "3.7.6"
  }
 },
 "nbformat": 4,
 "nbformat_minor": 4
}
