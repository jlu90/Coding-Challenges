{
 "cells": [
  {
   "cell_type": "markdown",
   "metadata": {},
   "source": [
    "## Code Wars"
   ]
  },
  {
   "cell_type": "code",
   "execution_count": 1,
   "metadata": {},
   "outputs": [],
   "source": [
    "def alphabet_war(fight):\n",
    "    left_letters = {'w':4, 'p':3, 'b':2, 's':1}\n",
    "    right_letters = {'m': 4, 'q': 3, 'd': 2, 'z': 1}\n",
    "    \n",
    "    left = 0\n",
    "    right = 0 \n",
    "    \n",
    "    for char in fight:\n",
    "        if char in left_letters:\n",
    "            left += left_letters[char]\n",
    "        elif char in right_letters:\n",
    "            right += right_letters[char]\n",
    "        else:\n",
    "            pass\n",
    "    \n",
    "    if left > right:\n",
    "        return 'Left side wins!'\n",
    "    elif right > left:\n",
    "        return 'Right side wins!'\n",
    "    \n",
    "    return 'Let\\'s fight again!'"
   ]
  },
  {
   "cell_type": "code",
   "execution_count": null,
   "metadata": {},
   "outputs": [],
   "source": []
  }
 ],
 "metadata": {
  "kernelspec": {
   "display_name": "Python 3",
   "language": "python",
   "name": "python3"
  },
  "language_info": {
   "codemirror_mode": {
    "name": "ipython",
    "version": 3
   },
   "file_extension": ".py",
   "mimetype": "text/x-python",
   "name": "python",
   "nbconvert_exporter": "python",
   "pygments_lexer": "ipython3",
   "version": "3.7.6"
  }
 },
 "nbformat": 4,
 "nbformat_minor": 4
}
